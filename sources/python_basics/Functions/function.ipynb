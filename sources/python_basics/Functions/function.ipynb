{
 "cells": [
  {
   "cell_type": "markdown",
   "id": "e858a4e0",
   "metadata": {},
   "source": [
    "first function:"
   ]
  },
  {
   "cell_type": "code",
   "execution_count": 4,
   "id": "7be02c62",
   "metadata": {},
   "outputs": [
    {
     "name": "stdout",
     "output_type": "stream",
     "text": [
      "2 * 1 = 2\n",
      "2 * 2 = 4\n",
      "2 * 3 = 6\n",
      "2 * 4 = 8\n",
      "2 * 5 = 10\n",
      "2 * 6 = 12\n",
      "2 * 7 = 14\n",
      "2 * 8 = 16\n",
      "2 * 9 = 18\n",
      "2 * 10 = 20\n"
     ]
    }
   ],
   "source": [
    "def multiplication(num):\n",
    "    \"\"\"\n",
    "    this function get a number and give the multiplication table of this number\n",
    "    \"\"\"\n",
    "    for i in range(1, 11):\n",
    "        print(str(num) + ' * ' + str(i) + ' = ' + f\"{num*i}\")\n",
    "\n",
    "multiplication(2)"
   ]
  },
  {
   "cell_type": "markdown",
   "id": "ea14e815",
   "metadata": {},
   "source": [
    "second function:"
   ]
  },
  {
   "cell_type": "code",
   "execution_count": 7,
   "id": "0e7d46d5",
   "metadata": {},
   "outputs": [
    {
     "name": "stdout",
     "output_type": "stream",
     "text": [
      "3 and 5\n",
      "5 and 7\n",
      "11 and 13\n",
      "17 and 19\n",
      "29 and 31\n",
      "41 and 43\n",
      "59 and 61\n",
      "71 and 73\n"
     ]
    }
   ],
   "source": [
    "def is_prime(n):\n",
    "    if n < 2:\n",
    "        return False\n",
    "    for i in range(2, int(n**0.5)+1):\n",
    "        if n % i == 0:\n",
    "            return False\n",
    "    return True\n",
    "\n",
    "def twin_primes(limit):\n",
    "    for num in range(3, limit - 1):\n",
    "        if is_prime(num) and is_prime(num + 2):\n",
    "            print(f\"{num} and {num + 2}\")\n",
    "\n",
    "twin_primes(100)"
   ]
  },
  {
   "cell_type": "markdown",
   "id": "fc6c143f",
   "metadata": {},
   "source": [
    "third function:"
   ]
  },
  {
   "cell_type": "code",
   "execution_count": 1,
   "id": "7d5d26c2",
   "metadata": {},
   "outputs": [
    {
     "name": "stdout",
     "output_type": "stream",
     "text": [
      "[2, 2, 2, 7]\n"
     ]
    }
   ],
   "source": [
    "def primeFactors(n):\n",
    "    factors = []\n",
    "    divisor = 2\n",
    "    while n > 1:\n",
    "        while n % divisor == 0:\n",
    "            factors.append(divisor)\n",
    "            n = n // divisor\n",
    "        divisor += 1\n",
    "    return factors\n",
    "\n",
    "print(primeFactors(56))"
   ]
  },
  {
   "cell_type": "markdown",
   "id": "96ed55d9",
   "metadata": {},
   "source": [
    "forth function:"
   ]
  },
  {
   "cell_type": "code",
   "execution_count": 4,
   "id": "5a37aaf3",
   "metadata": {},
   "outputs": [
    {
     "name": "stdout",
     "output_type": "stream",
     "text": [
      "1101\n"
     ]
    }
   ],
   "source": [
    "def decToBin(n):\n",
    "    return bin(n)[2:]\n",
    "\n",
    "# Example\n",
    "print(decToBin(13))"
   ]
  },
  {
   "cell_type": "code",
   "execution_count": 5,
   "id": "d85dab16",
   "metadata": {},
   "outputs": [
    {
     "name": "stdout",
     "output_type": "stream",
     "text": [
      "[0, 6, 28]\n"
     ]
    }
   ],
   "source": [
    "def perfectNums(start, end):\n",
    "    perfects = []\n",
    "    for num in range(start, end):\n",
    "        divisors = [i for i in range(1, num) if num % i == 0]\n",
    "        if sum(divisors) == num:\n",
    "            perfects.append(num)\n",
    "    return perfects\n",
    "\n",
    "# Example\n",
    "print(perfectNums(0, 100))"
   ]
  },
  {
   "cell_type": "code",
   "execution_count": null,
   "id": "8decf71c",
   "metadata": {},
   "outputs": [],
   "source": []
  }
 ],
 "metadata": {
  "kernelspec": {
   "display_name": ".venv",
   "language": "python",
   "name": "python3"
  },
  "language_info": {
   "codemirror_mode": {
    "name": "ipython",
    "version": 3
   },
   "file_extension": ".py",
   "mimetype": "text/x-python",
   "name": "python",
   "nbconvert_exporter": "python",
   "pygments_lexer": "ipython3",
   "version": "3.13.5"
  }
 },
 "nbformat": 4,
 "nbformat_minor": 5
}
