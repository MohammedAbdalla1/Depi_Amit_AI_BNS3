{
 "cells": [
  {
   "cell_type": "code",
   "execution_count": null,
   "id": "106a3402",
   "metadata": {},
   "outputs": [
    {
     "name": "stdout",
     "output_type": "stream",
     "text": [
      "\n",
      "    select the operation:\n",
      "    1/ Addition (+)\n",
      "    2/ subtraction (-)\n",
      "    3/ multplication (*)\n",
      "    4/ Division (/)\n",
      "    \n",
      "5\n"
     ]
    }
   ],
   "source": [
    "class Calc:\n",
    "    def __init__(self, num1, num2):\n",
    "        self.num1 = num1\n",
    "        self.num2 = num2\n",
    "    def addition(self):\n",
    "        return self.num1 + self.num2\n",
    "    def subtraction(self):\n",
    "        return self.num1 - self.num2\n",
    "    def multiply(self):\n",
    "        return self.num1 * self.num2\n",
    "    def divide(self):\n",
    "        return self.num1 / self.num2\n",
    "\n",
    "operation = input(\"enter the operation: \")\n",
    "num1 = int(input(\"enter first number: \"))\n",
    "num2 = int(input(\"enter second number: \"))\n",
    "\n",
    "x = Calc(num1, num2)\n",
    "if operation == '+':\n",
    "    print(x.addition())\n",
    "elif operation == '-':\n",
    "    print(x.subtraction())\n",
    "elif operation == '*':\n",
    "    print(x.multiply())\n",
    "elif operation == '/':\n",
    "    if num2 != 0:\n",
    "        print(x.divide())\n",
    "    else:\n",
    "        \"cannot divide by zero\"\n",
    "else:\n",
    "    print(\"invalid operation\")"
   ]
  },
  {
   "cell_type": "code",
   "execution_count": null,
   "id": "6860f1cf",
   "metadata": {},
   "outputs": [],
   "source": []
  }
 ],
 "metadata": {
  "kernelspec": {
   "display_name": ".venv",
   "language": "python",
   "name": "python3"
  },
  "language_info": {
   "codemirror_mode": {
    "name": "ipython",
    "version": 3
   },
   "file_extension": ".py",
   "mimetype": "text/x-python",
   "name": "python",
   "nbconvert_exporter": "python",
   "pygments_lexer": "ipython3",
   "version": "3.13.5"
  }
 },
 "nbformat": 4,
 "nbformat_minor": 5
}
