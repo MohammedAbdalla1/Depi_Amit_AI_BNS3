{
 "cells": [
  {
   "cell_type": "code",
   "execution_count": 14,
   "id": "e18836b4",
   "metadata": {},
   "outputs": [],
   "source": [
    "import os\n",
    "import random"
   ]
  },
  {
   "cell_type": "markdown",
   "id": "01c0b274",
   "metadata": {},
   "source": [
    "Creating folder:"
   ]
  },
  {
   "cell_type": "code",
   "execution_count": 5,
   "id": "151d323a",
   "metadata": {},
   "outputs": [],
   "source": [
    "folder_path = r\"C:\\Users\\Maydoum\\OneDrive\\Desktop\\DEPI\\projects\\Depi_Amit_AI_BNS3\\sources\\python_basics\\file_handling\\task_folder\"\n",
    "os.makedirs(folder_path)"
   ]
  },
  {
   "cell_type": "markdown",
   "id": "ecd1c48f",
   "metadata": {},
   "source": [
    "Adding files in folder:"
   ]
  },
  {
   "cell_type": "code",
   "execution_count": 11,
   "id": "f9ad3e19",
   "metadata": {},
   "outputs": [],
   "source": [
    "for i in range(10):\n",
    "    file_path = os.path.join(folder_path, f\"file_{i+1}.txt\")\n",
    "    with open(file_path,'w') as f:\n",
    "        f.write(f\"this is file number {i+1}\")"
   ]
  },
  {
   "cell_type": "markdown",
   "id": "8a053b94",
   "metadata": {},
   "source": [
    "check the number of files:"
   ]
  },
  {
   "cell_type": "code",
   "execution_count": 13,
   "id": "0ab7ff4c",
   "metadata": {},
   "outputs": [
    {
     "data": {
      "text/plain": [
       "10"
      ]
     },
     "execution_count": 13,
     "metadata": {},
     "output_type": "execute_result"
    }
   ],
   "source": [
    "num_files = len(os.listdir(folder_path))\n",
    "num_files"
   ]
  },
  {
   "cell_type": "markdown",
   "id": "8f4e5c30",
   "metadata": {},
   "source": [
    "Delete random half of the files:"
   ]
  },
  {
   "cell_type": "code",
   "execution_count": 16,
   "id": "277afccf",
   "metadata": {},
   "outputs": [],
   "source": [
    "for _ in range(num_files//2):\n",
    "    picked_file = random.choice(os.listdir(folder_path))\n",
    "    picked_file_path = os.path.join(folder_path, picked_file)\n",
    "    os.remove(picked_file_path)"
   ]
  },
  {
   "cell_type": "markdown",
   "id": "17e7a7c4",
   "metadata": {},
   "source": [
    "check the result"
   ]
  },
  {
   "cell_type": "code",
   "execution_count": 17,
   "id": "c4535d04",
   "metadata": {},
   "outputs": [
    {
     "data": {
      "text/plain": [
       "5"
      ]
     },
     "execution_count": 17,
     "metadata": {},
     "output_type": "execute_result"
    }
   ],
   "source": [
    "new_num_files = len(os.listdir(folder_path))\n",
    "new_num_files"
   ]
  },
  {
   "cell_type": "code",
   "execution_count": null,
   "id": "be44f438",
   "metadata": {},
   "outputs": [],
   "source": []
  }
 ],
 "metadata": {
  "kernelspec": {
   "display_name": ".venv",
   "language": "python",
   "name": "python3"
  },
  "language_info": {
   "codemirror_mode": {
    "name": "ipython",
    "version": 3
   },
   "file_extension": ".py",
   "mimetype": "text/x-python",
   "name": "python",
   "nbconvert_exporter": "python",
   "pygments_lexer": "ipython3",
   "version": "3.13.5"
  }
 },
 "nbformat": 4,
 "nbformat_minor": 5
}
