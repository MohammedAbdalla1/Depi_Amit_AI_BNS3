{
 "cells": [
  {
   "cell_type": "code",
   "execution_count": 2,
   "id": "853dc418",
   "metadata": {},
   "outputs": [],
   "source": [
    "import re"
   ]
  },
  {
   "cell_type": "code",
   "execution_count": 1,
   "id": "149e0c6d",
   "metadata": {},
   "outputs": [],
   "source": [
    "s = \"###!!@mocleW EPGTQ!!!6789\""
   ]
  },
  {
   "cell_type": "code",
   "execution_count": null,
   "id": "7d6a18b5",
   "metadata": {},
   "outputs": [],
   "source": [
    "def decode(s):\n",
    "    core = re.findall(\"[A-Za-z ]+\", s)\n",
    "    message = ''.join(core).strip()\n",
    "    \n",
    "    words = message.split()\n",
    "    \n",
    "    words[0] = words[0][::-1]\n",
    "    \n",
    "    return ' '.join(words)"
   ]
  },
  {
   "cell_type": "code",
   "execution_count": 17,
   "id": "ab836552",
   "metadata": {},
   "outputs": [
    {
     "data": {
      "text/plain": [
       "'Welcom EPGTQ'"
      ]
     },
     "execution_count": 17,
     "metadata": {},
     "output_type": "execute_result"
    }
   ],
   "source": [
    "decode(s)"
   ]
  }
 ],
 "metadata": {
  "kernelspec": {
   "display_name": ".venv",
   "language": "python",
   "name": "python3"
  },
  "language_info": {
   "codemirror_mode": {
    "name": "ipython",
    "version": 3
   },
   "file_extension": ".py",
   "mimetype": "text/x-python",
   "name": "python",
   "nbconvert_exporter": "python",
   "pygments_lexer": "ipython3",
   "version": "3.13.5"
  }
 },
 "nbformat": 4,
 "nbformat_minor": 5
}
