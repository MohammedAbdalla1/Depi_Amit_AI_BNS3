{
 "cells": [
  {
   "cell_type": "code",
   "execution_count": null,
   "id": "4b41d92c",
   "metadata": {},
   "outputs": [],
   "source": [
    "def info_std(name, age):\n",
    "    \"\"\"\n",
    "    this function takes two parameters and print them\n",
    "    \"\"\"\n",
    "    print(name,age)"
   ]
  },
  {
   "cell_type": "code",
   "execution_count": 3,
   "id": "f461bcd1",
   "metadata": {},
   "outputs": [
    {
     "name": "stdout",
     "output_type": "stream",
     "text": [
      "mohamed 23\n"
     ]
    }
   ],
   "source": [
    "info_std(\"mohamed\", 23)"
   ]
  },
  {
   "cell_type": "code",
   "execution_count": 4,
   "id": "bb79f61b",
   "metadata": {},
   "outputs": [
    {
     "name": "stdout",
     "output_type": "stream",
     "text": [
      "mohamed 33\n"
     ]
    }
   ],
   "source": [
    "info_std(age = 33, name = \"mohamed\")"
   ]
  },
  {
   "cell_type": "code",
   "execution_count": 11,
   "id": "df2ce89a",
   "metadata": {},
   "outputs": [],
   "source": [
    "def info_std2(*name):\n",
    "    \"\"\"\n",
    "    this function takes two parameters and print them\n",
    "    \"\"\"\n",
    "    print(name)"
   ]
  },
  {
   "cell_type": "code",
   "execution_count": 9,
   "id": "4a941631",
   "metadata": {},
   "outputs": [
    {
     "name": "stdout",
     "output_type": "stream",
     "text": [
      "('ahmed', 'aya', 'mona', 'mohamed')\n"
     ]
    }
   ],
   "source": [
    "info_std2(\"ahmed\",\"aya\",\"mona\",\"mohamed\")"
   ]
  },
  {
   "cell_type": "code",
   "execution_count": 12,
   "id": "7487ee28",
   "metadata": {},
   "outputs": [],
   "source": [
    "def info_std3(**name):\n",
    "    \"\"\"\n",
    "    this function takes two parameters and print them\n",
    "    \"\"\"\n",
    "    print(name)"
   ]
  },
  {
   "cell_type": "code",
   "execution_count": 13,
   "id": "6ac4ced8",
   "metadata": {},
   "outputs": [
    {
     "name": "stdout",
     "output_type": "stream",
     "text": [
      "{'mohamed': 23, 'ahmed': 44, 'gehad': 33}\n"
     ]
    }
   ],
   "source": [
    "info_std3(mohamed=23,ahmed = 44,gehad= 33)"
   ]
  },
  {
   "cell_type": "code",
   "execution_count": 15,
   "id": "82098b67",
   "metadata": {},
   "outputs": [
    {
     "name": "stdout",
     "output_type": "stream",
     "text": [
      "50\n"
     ]
    }
   ],
   "source": [
    "sum_n = lambda x: x + 10\n",
    "print(sum_n(40))"
   ]
  },
  {
   "cell_type": "code",
   "execution_count": 17,
   "id": "7008f6a9",
   "metadata": {},
   "outputs": [
    {
     "data": {
      "text/plain": [
       "30"
      ]
     },
     "execution_count": 17,
     "metadata": {},
     "output_type": "execute_result"
    }
   ],
   "source": [
    "sum_1 = lambda x,y : x+y\n",
    "sum_1(10,20)"
   ]
  },
  {
   "cell_type": "code",
   "execution_count": 22,
   "id": "4e5df7ad",
   "metadata": {},
   "outputs": [],
   "source": [
    "def sum_n(n):\n",
    "    return lambda a: a * n"
   ]
  },
  {
   "cell_type": "code",
   "execution_count": 25,
   "id": "a55ca6fd",
   "metadata": {},
   "outputs": [
    {
     "data": {
      "text/plain": [
       "22"
      ]
     },
     "execution_count": 25,
     "metadata": {},
     "output_type": "execute_result"
    }
   ],
   "source": [
    "fun_1 = sum_n(11)\n",
    "fun_1(2)"
   ]
  },
  {
   "cell_type": "markdown",
   "id": "f7b3cd06",
   "metadata": {},
   "source": [
    "Exeption Handling:"
   ]
  },
  {
   "cell_type": "code",
   "execution_count": 34,
   "id": "d292ee1a",
   "metadata": {},
   "outputs": [
    {
     "name": "stdout",
     "output_type": "stream",
     "text": [
      "not accepted to divided by zero\n"
     ]
    }
   ],
   "source": [
    "try:\n",
    "    x = 10\n",
    "    y = int(input(\"enter your value\"))\n",
    "    print(x/y)\n",
    "except:\n",
    "    print(\"not accepted to divided by zero\")"
   ]
  },
  {
   "cell_type": "code",
   "execution_count": 38,
   "id": "0d60a29e",
   "metadata": {},
   "outputs": [
    {
     "ename": "ZeroDivisionError",
     "evalue": "division by zero",
     "output_type": "error",
     "traceback": [
      "\u001b[31m---------------------------------------------------------------------------\u001b[39m",
      "\u001b[31mZeroDivisionError\u001b[39m                         Traceback (most recent call last)",
      "\u001b[36mCell\u001b[39m\u001b[36m \u001b[39m\u001b[32mIn[38]\u001b[39m\u001b[32m, line 2\u001b[39m\n\u001b[32m      1\u001b[39m \u001b[38;5;28;01mtry\u001b[39;00m:\n\u001b[32m----> \u001b[39m\u001b[32m2\u001b[39m     \u001b[38;5;28mprint\u001b[39m(\u001b[32;43m5\u001b[39;49m\u001b[43m/\u001b[49m\u001b[32;43m0\u001b[39;49m)\n\u001b[32m      3\u001b[39m \u001b[38;5;28;01mexcept\u001b[39;00m \u001b[38;5;167;01mNameError\u001b[39;00m:\n\u001b[32m      4\u001b[39m     \u001b[38;5;28mprint\u001b[39m(\u001b[33m\"\u001b[39m\u001b[33maaa\u001b[39m\u001b[33m\"\u001b[39m)\n",
      "\u001b[31mZeroDivisionError\u001b[39m: division by zero"
     ]
    }
   ],
   "source": [
    "try:\n",
    "    print(5/0)\n",
    "except NameError:\n",
    "    print(\"aaa\")"
   ]
  },
  {
   "cell_type": "code",
   "execution_count": 49,
   "id": "5eac20be",
   "metadata": {},
   "outputs": [
    {
     "data": {
      "text/plain": [
       "0.000982433470422716"
      ]
     },
     "execution_count": 49,
     "metadata": {},
     "output_type": "execute_result"
    }
   ],
   "source": [
    "import random\n",
    "n = random.random()\n",
    "def calc_degree(n):\n",
    "    return n*n\n",
    "calc_degree(n)"
   ]
  },
  {
   "cell_type": "code",
   "execution_count": 50,
   "id": "f1317503",
   "metadata": {},
   "outputs": [],
   "source": [
    "import os"
   ]
  },
  {
   "cell_type": "code",
   "execution_count": 51,
   "id": "f6c5d459",
   "metadata": {},
   "outputs": [],
   "source": [
    "file = os.listdir(r\"C:\\Users\\Maydoum\\OneDrive\\Desktop\\DEPI\\projects\\Depi_Amit_AI_BNS3\\sources\\python_basics\")\n"
   ]
  },
  {
   "cell_type": "code",
   "execution_count": 52,
   "id": "ee0ad0a0",
   "metadata": {},
   "outputs": [
    {
     "name": "stdout",
     "output_type": "stream",
     "text": [
      "['basics.ipynb', 'functions.ipynb']\n"
     ]
    }
   ],
   "source": [
    "print(file)"
   ]
  },
  {
   "cell_type": "code",
   "execution_count": 58,
   "id": "42bf1cb6",
   "metadata": {},
   "outputs": [
    {
     "data": {
      "text/plain": [
       "'C:\\\\Users\\\\Maydoum\\\\OneDrive\\\\Desktop\\\\DEPI\\\\projects\\\\Depi_Amit_AI_BNS3\\\\sources\\\\python_basics\\\\text_1.txt'"
      ]
     },
     "execution_count": 58,
     "metadata": {},
     "output_type": "execute_result"
    }
   ],
   "source": [
    "base_dir = r\"C:\\Users\\Maydoum\\OneDrive\\Desktop\\DEPI\\projects\\Depi_Amit_AI_BNS3\\sources\\python_basics\"\n",
    "file_name = \"text_1.txt\"\n",
    "file_root_path = os.path.join(base_dir,file_name)\n",
    "file_root_path\n",
    "# os.remove(file_root_path)"
   ]
  },
  {
   "cell_type": "code",
   "execution_count": 60,
   "id": "713a2710",
   "metadata": {},
   "outputs": [],
   "source": [
    "dir_1 = r\"C:\\Users\\Maydoum\\OneDrive\\Desktop\\DEPI\\projects\\Depi_Amit_AI_BNS3\\testfolder\"\n",
    "if not os.path.exists(dir_1):\n",
    "    os.makedirs(dir_1)\n",
    "else:\n",
    "    print(\"directory already exists\")"
   ]
  },
  {
   "cell_type": "code",
   "execution_count": 63,
   "id": "7ee104e5",
   "metadata": {},
   "outputs": [],
   "source": [
    "path = r\"C:\\Users\\Maydoum\\OneDrive\\Desktop\\DEPI\\projects\\Depi_Amit_AI_BNS3\\testfolder\"\n",
    "if not os.path.exists(path):\n",
    "    os.makedirs(path)\n",
    "for i in range(5):\n",
    "    inner_path = os.path.join(path,\"dir_\"+ str(i))\n",
    "    if not os.path.exists(inner_path):\n",
    "        os.makedirs(inner_path)"
   ]
  },
  {
   "cell_type": "code",
   "execution_count": 71,
   "id": "9d9b5e0e",
   "metadata": {},
   "outputs": [],
   "source": [
    "import random\n",
    "def generate_password(length):\n",
    "    characters = \"abcdefghijklmnopqrstuvwxyzABCDEFGHIJKLMNOPQRSTUVWXYZ1234567890!@#$%^&*\"\n",
    "    password = \"\"\n",
    "    for _ in range(length):\n",
    "        password += random.choice(characters)\n",
    "    return password"
   ]
  },
  {
   "cell_type": "code",
   "execution_count": 72,
   "id": "8326bd99",
   "metadata": {},
   "outputs": [
    {
     "data": {
      "text/plain": [
       "'bcfAF&iH'"
      ]
     },
     "execution_count": 72,
     "metadata": {},
     "output_type": "execute_result"
    }
   ],
   "source": [
    "generate_password(8)"
   ]
  }
 ],
 "metadata": {
  "kernelspec": {
   "display_name": ".venv",
   "language": "python",
   "name": "python3"
  },
  "language_info": {
   "codemirror_mode": {
    "name": "ipython",
    "version": 3
   },
   "file_extension": ".py",
   "mimetype": "text/x-python",
   "name": "python",
   "nbconvert_exporter": "python",
   "pygments_lexer": "ipython3",
   "version": "3.13.5"
  }
 },
 "nbformat": 4,
 "nbformat_minor": 5
}
