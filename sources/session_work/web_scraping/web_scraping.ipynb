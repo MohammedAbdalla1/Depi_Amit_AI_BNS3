{
 "cells": [
  {
   "cell_type": "code",
   "execution_count": 1,
   "id": "f40dcba8",
   "metadata": {},
   "outputs": [
    {
     "name": "stdout",
     "output_type": "stream",
     "text": [
      "Collecting beautifulsoup4\n",
      "  Downloading beautifulsoup4-4.13.4-py3-none-any.whl.metadata (3.8 kB)\n",
      "Collecting soupsieve>1.2 (from beautifulsoup4)\n",
      "  Downloading soupsieve-2.7-py3-none-any.whl.metadata (4.6 kB)\n",
      "Collecting typing-extensions>=4.0.0 (from beautifulsoup4)\n",
      "  Downloading typing_extensions-4.14.1-py3-none-any.whl.metadata (3.0 kB)\n",
      "Downloading beautifulsoup4-4.13.4-py3-none-any.whl (187 kB)\n",
      "Downloading soupsieve-2.7-py3-none-any.whl (36 kB)\n",
      "Downloading typing_extensions-4.14.1-py3-none-any.whl (43 kB)\n",
      "Installing collected packages: typing-extensions, soupsieve, beautifulsoup4\n",
      "\n",
      "   ------------- -------------------------- 1/3 [soupsieve]\n",
      "   -------------------------- ------------- 2/3 [beautifulsoup4]\n",
      "   -------------------------- ------------- 2/3 [beautifulsoup4]\n",
      "   -------------------------- ------------- 2/3 [beautifulsoup4]\n",
      "   -------------------------- ------------- 2/3 [beautifulsoup4]\n",
      "   ---------------------------------------- 3/3 [beautifulsoup4]\n",
      "\n",
      "Successfully installed beautifulsoup4-4.13.4 soupsieve-2.7 typing-extensions-4.14.1\n",
      "Note: you may need to restart the kernel to use updated packages.\n"
     ]
    }
   ],
   "source": [
    "pip install beautifulsoup4"
   ]
  },
  {
   "cell_type": "code",
   "execution_count": 2,
   "id": "5ad0ee67",
   "metadata": {},
   "outputs": [
    {
     "name": "stdout",
     "output_type": "stream",
     "text": [
      "Collecting lxml\n",
      "  Downloading lxml-6.0.0-cp313-cp313-win_amd64.whl.metadata (6.8 kB)\n",
      "Downloading lxml-6.0.0-cp313-cp313-win_amd64.whl (4.0 MB)\n",
      "   ---------------------------------------- 0.0/4.0 MB ? eta -:--:--\n",
      "   -- ------------------------------------- 0.3/4.0 MB ? eta -:--:--\n",
      "   ------- -------------------------------- 0.8/4.0 MB 2.8 MB/s eta 0:00:02\n",
      "   --------------- ------------------------ 1.6/4.0 MB 3.3 MB/s eta 0:00:01\n",
      "   -------------------- ------------------- 2.1/4.0 MB 3.5 MB/s eta 0:00:01\n",
      "   ---------------------------- ----------- 2.9/4.0 MB 3.4 MB/s eta 0:00:01\n",
      "   ------------------------------------ --- 3.7/4.0 MB 3.5 MB/s eta 0:00:01\n",
      "   ---------------------------------------- 4.0/4.0 MB 3.5 MB/s eta 0:00:00\n",
      "Installing collected packages: lxml\n",
      "Successfully installed lxml-6.0.0\n",
      "Note: you may need to restart the kernel to use updated packages.\n"
     ]
    }
   ],
   "source": [
    "pip install lxml"
   ]
  },
  {
   "cell_type": "code",
   "execution_count": 9,
   "id": "a5c135e3",
   "metadata": {},
   "outputs": [
    {
     "name": "stdout",
     "output_type": "stream",
     "text": [
      "[<h5 class=\"card-title\">Python for Beginners</h5>, <h5 class=\"card-title\">Python Web Development</h5>, <h5 class=\"card-title\">Python Machine Learning</h5>]\n"
     ]
    }
   ],
   "source": [
    "from bs4 import BeautifulSoup\n",
    "with open(r'C:\\Users\\Maydoum\\OneDrive\\Desktop\\DEPI\\projects\\Depi_Amit_AI_BNS3\\sources\\session_work\\web_scraping\\home.html','r') as html_file:\n",
    "    content = html_file.read()\n",
    "    soup = BeautifulSoup(content, 'lxml')\n",
    "    print(soup.find_all('h5'))"
   ]
  },
  {
   "cell_type": "code",
   "execution_count": 10,
   "id": "9db31631",
   "metadata": {},
   "outputs": [
    {
     "name": "stdout",
     "output_type": "stream",
     "text": [
      "<h5 class=\"card-title\">Python for Beginners</h5>\n",
      "<h5 class=\"card-title\">Python Web Development</h5>\n",
      "<h5 class=\"card-title\">Python Machine Learning</h5>\n"
     ]
    }
   ],
   "source": [
    "with open(r'C:\\Users\\Maydoum\\OneDrive\\Desktop\\DEPI\\projects\\Depi_Amit_AI_BNS3\\sources\\session_work\\web_scraping\\home.html','r') as html_file:\n",
    "    content = html_file.read()\n",
    "    soup = BeautifulSoup(content, 'lxml')\n",
    "    courses_html_tags = soup.find_all('h5')\n",
    "    for course in courses_html_tags:\n",
    "        print(course)"
   ]
  },
  {
   "cell_type": "code",
   "execution_count": 11,
   "id": "0e4e27e7",
   "metadata": {},
   "outputs": [
    {
     "name": "stdout",
     "output_type": "stream",
     "text": [
      "Python for Beginners\n",
      "Python Web Development\n",
      "Python Machine Learning\n"
     ]
    }
   ],
   "source": [
    "with open(r'C:\\Users\\Maydoum\\OneDrive\\Desktop\\DEPI\\projects\\Depi_Amit_AI_BNS3\\sources\\session_work\\web_scraping\\home.html','r') as html_file:\n",
    "    content = html_file.read()\n",
    "    soup = BeautifulSoup(content, 'lxml')\n",
    "    courses_html_tags = soup.find_all('h5')\n",
    "    for course in courses_html_tags:\n",
    "        print(course.text)"
   ]
  },
  {
   "cell_type": "code",
   "execution_count": 13,
   "id": "6fcf0640",
   "metadata": {},
   "outputs": [
    {
     "name": "stdout",
     "output_type": "stream",
     "text": [
      "Python for Beginners\n",
      "Win $20\n",
      "Python Web Development\n",
      "Win $30\n",
      "Python Machine Learning\n",
      "Win $100\n"
     ]
    }
   ],
   "source": [
    "with open(r'C:\\Users\\Maydoum\\OneDrive\\Desktop\\DEPI\\projects\\Depi_Amit_AI_BNS3\\sources\\session_work\\web_scraping\\home.html','r') as html_file:\n",
    "    content = html_file.read()\n",
    "    soup = BeautifulSoup(content, 'lxml')\n",
    "    course_cards = soup.find_all('div', class_ = 'card')\n",
    "    for course in course_cards:\n",
    "        course_name = course.h5\n",
    "        course_win = course.a\n",
    "        print(course_name.text)\n",
    "        print(course_win.text)"
   ]
  },
  {
   "cell_type": "code",
   "execution_count": null,
   "id": "a404c675",
   "metadata": {},
   "outputs": [],
   "source": []
  }
 ],
 "metadata": {
  "kernelspec": {
   "display_name": ".venv",
   "language": "python",
   "name": "python3"
  },
  "language_info": {
   "codemirror_mode": {
    "name": "ipython",
    "version": 3
   },
   "file_extension": ".py",
   "mimetype": "text/x-python",
   "name": "python",
   "nbconvert_exporter": "python",
   "pygments_lexer": "ipython3",
   "version": "3.13.5"
  }
 },
 "nbformat": 4,
 "nbformat_minor": 5
}
