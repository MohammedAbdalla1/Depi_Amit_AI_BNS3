{
 "cells": [
  {
   "cell_type": "code",
   "execution_count": null,
   "id": "3348ecaf",
   "metadata": {},
   "outputs": [
    {
     "name": "stdout",
     "output_type": "stream",
     "text": [
      "<__main__.test object at 0x000002344F27BE00>\n"
     ]
    }
   ],
   "source": [
    "class test:\n",
    "    def info(self):\n",
    "        print(self)\n",
    "\n",
    "x = test()\n",
    "print(x)"
   ]
  },
  {
   "cell_type": "code",
   "execution_count": 6,
   "id": "363a69ec",
   "metadata": {},
   "outputs": [],
   "source": [
    "class Student:\n",
    "    def __init__(self, name, age, gpa, gender):\n",
    "        self.name = name\n",
    "        self.age = age\n",
    "        self.gpa = gpa\n",
    "        self.gender = gender"
   ]
  },
  {
   "cell_type": "code",
   "execution_count": 8,
   "id": "7b419203",
   "metadata": {},
   "outputs": [
    {
     "name": "stdout",
     "output_type": "stream",
     "text": [
      "Mohamed\n"
     ]
    }
   ],
   "source": [
    "s1 = Student(\"Mohamed\", 22, 3.4, \"Male\")\n",
    "print(s1.name)"
   ]
  },
  {
   "cell_type": "code",
   "execution_count": null,
   "id": "6274e88a",
   "metadata": {},
   "outputs": [
    {
     "name": "stdout",
     "output_type": "stream",
     "text": [
      "5\n"
     ]
    }
   ],
   "source": [
    "class Calc:\n",
    "    def __init__(self, num1, num2):\n",
    "        self.num1 = num1\n",
    "        self.num2 = num2\n",
    "    def addition(self):\n",
    "        return self.num1 + self.num2\n",
    "    def subtraction(self):\n",
    "        return self.num1 - self.num2\n",
    "    def multiply(self):\n",
    "        return self.num1 * self.num2\n",
    "    def divide(self):\n",
    "        return self.num1 / self.num2\n",
    "\n",
    "operation = input(\"enter the operation: \")\n",
    "num1 = int(input(\"enter first number: \"))\n",
    "num2 = int(input(\"enter second number: \"))\n",
    "\n",
    "x = Calc(num1, num2)\n",
    "if operation == '+':\n",
    "    print(x.addition())\n",
    "elif operation == '-':\n",
    "    print(x.subtraction())\n",
    "elif operation == '*':\n",
    "    print(x.multiply())\n",
    "elif operation == '/':\n",
    "    if num2 != 0:\n",
    "        print(x.divide())\n",
    "    else:\n",
    "        \"cannot divide by zero\"\n",
    "else:\n",
    "    print(\"invalid operation\")"
   ]
  },
  {
   "cell_type": "code",
   "execution_count": 11,
   "id": "cd910341",
   "metadata": {},
   "outputs": [],
   "source": [
    "from abc import ABC, abstractmethod\n",
    "class Animal(ABC):\n",
    "    @abstractmethod\n",
    "    def move(self):\n",
    "        pass\n",
    "\n",
    "class Bird(Animal):\n",
    "    def move(self):\n",
    "        print(\"move from bird\")\n",
    "\n"
   ]
  },
  {
   "cell_type": "code",
   "execution_count": 13,
   "id": "ba53da12",
   "metadata": {},
   "outputs": [
    {
     "name": "stdout",
     "output_type": "stream",
     "text": [
      "move from bird\n"
     ]
    }
   ],
   "source": [
    "a = Bird()\n",
    "a.move()"
   ]
  },
  {
   "cell_type": "code",
   "execution_count": null,
   "id": "e44feb77",
   "metadata": {},
   "outputs": [],
   "source": [
    "import random\n",
    "responses = {\n",
    "    \"hello\": [\"Hello!\", \"Hi there!\", \"Greetings!\"],\n",
    "    \"how are you\": [\"I'm doing well, thank you!\", \"I'm fine, how about you?\"],\n",
    "    \"goodbye\": [\"Goodbye!\", \"See you later!\", \"Farewell!\"],\n",
    "    \"default\": [\"I'm sorry, I didn't understand.\", \"Could you please rephrase that?\"]\n",
    "}\n",
    " \n",
    "def get_response(user_input):\n",
    " \n",
    "  for key in responses:\n",
    "    if key in user_input:\n",
    "      return random.choice(responses[key])\n",
    " \n",
    " \n",
    "  return random.choice(responses[\"default\"])\n",
    " \n",
    " \n",
    "def chatbot():\n",
    "  print(\"Chatbot: Hi How can i assist you today?\")\n",
    " \n",
    "  while True:\n",
    " \n",
    "    user_input = input(\"User:  \").lower()\n",
    "    response = get_response(user_input)\n",
    "    print(\"Chatbot: \", response)\n",
    "   \n",
    "    if user_input == \"goodbye\":\n",
    "      break\n",
    "     "
   ]
  },
  {
   "cell_type": "code",
   "execution_count": 15,
   "id": "55c131f2",
   "metadata": {},
   "outputs": [
    {
     "name": "stdout",
     "output_type": "stream",
     "text": [
      "Chatbot: Hi How can i assist you today?\n",
      "Chatbot:  Greetings!\n",
      "Chatbot:  Could you please rephrase that?\n",
      "Chatbot:  I'm sorry, I didn't understand.\n",
      "Chatbot:  Could you please rephrase that?\n",
      "Chatbot:  Goodbye!\n"
     ]
    }
   ],
   "source": [
    "chatbot()"
   ]
  },
  {
   "cell_type": "code",
   "execution_count": null,
   "id": "9040e491",
   "metadata": {},
   "outputs": [
    {
     "name": "stdout",
     "output_type": "stream",
     "text": [
      "Chatbot: Hi How can i assist you today\n"
     ]
    },
    {
     "ename": "NameError",
     "evalue": "name 'responses' is not defined",
     "output_type": "error",
     "traceback": [
      "\u001b[31m---------------------------------------------------------------------------\u001b[39m",
      "\u001b[31mNameError\u001b[39m                                 Traceback (most recent call last)",
      "\u001b[36mCell\u001b[39m\u001b[36m \u001b[39m\u001b[32mIn[8]\u001b[39m\u001b[32m, line 9\u001b[39m\n\u001b[32m      7\u001b[39m \u001b[38;5;28;01mwhile\u001b[39;00m \u001b[38;5;28;01mTrue\u001b[39;00m:\n\u001b[32m      8\u001b[39m   user_input = \u001b[38;5;28minput\u001b[39m(\u001b[33m\"\u001b[39m\u001b[33mUser: \u001b[39m\u001b[33m\"\u001b[39m).lower()\n\u001b[32m----> \u001b[39m\u001b[32m9\u001b[39m   responseg = \u001b[43mget_response\u001b[49m\u001b[43m(\u001b[49m\u001b[43muser_input\u001b[49m\u001b[43m)\u001b[49m\n\u001b[32m     10\u001b[39m   \u001b[38;5;28mprint\u001b[39m(\u001b[33m\"\u001b[39m\u001b[33mChatbot: \u001b[39m\u001b[33m\"\u001b[39m, responseg)\n\u001b[32m     12\u001b[39m   \u001b[38;5;28;01mif\u001b[39;00m user_input == \u001b[33m\"\u001b[39m\u001b[33mgoodbye\u001b[39m\u001b[33m\"\u001b[39m:\n",
      "\u001b[36mFile \u001b[39m\u001b[32mc:\\Users\\Maydoum\\OneDrive\\Desktop\\DEPI\\projects\\Depi_Amit_AI_BNS3\\sources\\session_work\\oop_session\\response.py:3\u001b[39m, in \u001b[36mget_response\u001b[39m\u001b[34m(user_input)\u001b[39m\n\u001b[32m      1\u001b[39m \u001b[38;5;28;01mdef\u001b[39;00m\u001b[38;5;250m \u001b[39m\u001b[34mget_response\u001b[39m(user_input):\n\u001b[32m----> \u001b[39m\u001b[32m3\u001b[39m   \u001b[38;5;28;01mfor\u001b[39;00m key \u001b[38;5;129;01min\u001b[39;00m \u001b[43mresponses\u001b[49m:\n\u001b[32m      4\u001b[39m     \u001b[38;5;28;01mif\u001b[39;00m key \u001b[38;5;129;01min\u001b[39;00m user_input:\n\u001b[32m      5\u001b[39m       \u001b[38;5;28;01mreturn\u001b[39;00m random.choice(responses[key])\n",
      "\u001b[31mNameError\u001b[39m: name 'responses' is not defined"
     ]
    }
   ],
   "source": [
    "from response import get_response\n",
    "\n",
    "\n",
    "if __name__ == \"__main__\":\n",
    "  print(\"Chatbot: Hi How can i assist you today\")\n",
    "\n",
    "  while True:\n",
    "    user_input = input(\"User: \").lower()\n",
    "    response = get_response(user_input)\n",
    "    print(\"Chatbot: \", response)\n",
    "\n",
    "    if user_input == \"goodbye\":\n",
    "      break"
   ]
  },
  {
   "cell_type": "code",
   "execution_count": null,
   "id": "9fd3775f",
   "metadata": {},
   "outputs": [],
   "source": []
  }
 ],
 "metadata": {
  "kernelspec": {
   "display_name": ".venv",
   "language": "python",
   "name": "python3"
  },
  "language_info": {
   "codemirror_mode": {
    "name": "ipython",
    "version": 3
   },
   "file_extension": ".py",
   "mimetype": "text/x-python",
   "name": "python",
   "nbconvert_exporter": "python",
   "pygments_lexer": "ipython3",
   "version": "3.13.5"
  }
 },
 "nbformat": 4,
 "nbformat_minor": 5
}
