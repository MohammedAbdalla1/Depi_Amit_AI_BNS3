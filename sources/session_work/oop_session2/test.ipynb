{
 "cells": [
  {
   "cell_type": "code",
   "execution_count": null,
   "id": "9bfe0fc4",
   "metadata": {},
   "outputs": [],
   "source": [
    "class Student:\n",
    "    _id_counter = 1\n",
    "\n",
    "    def __init__(self, name):\n",
    "        self.name = name\n",
    "        Student._id_counter += 1\n",
    "        self.student_id = Student._id_counter\n",
    "        self.grades = {}\n",
    "        self.enrolled_courses = []\n",
    "\n",
    "    def __str__(self):\n",
    "        return f\"Student ID: {self.student_id}, Name: {self.name}, Grades: {self.grades}\"\n",
    "    def __repr__(self):\n",
    "        return f\"Student ID: {self.student_id}, Name: {self.name}, Grades: {self.grades}\"\n",
    "    \n",
    "    def add_grade(self, course_id, grade):\n",
    "        self.grades[]\n"
   ]
  },
  {
   "cell_type": "code",
   "execution_count": 17,
   "id": "e2a80178",
   "metadata": {},
   "outputs": [
    {
     "name": "stdout",
     "output_type": "stream",
     "text": [
      "Student ID: 6, Name: mohamed, Grades: {}\n"
     ]
    },
    {
     "data": {
      "text/plain": [
       "Student ID: 6, Name: mohamed, Grades: {}"
      ]
     },
     "execution_count": 17,
     "metadata": {},
     "output_type": "execute_result"
    }
   ],
   "source": [
    "s1 = Student(\"mohamed\")\n",
    "print(s1)\n",
    "str(s1)\n",
    "repr(s1)\n",
    "s1"
   ]
  },
  {
   "cell_type": "code",
   "execution_count": null,
   "id": "829d9e2e",
   "metadata": {},
   "outputs": [],
   "source": []
  },
  {
   "cell_type": "code",
   "execution_count": null,
   "id": "f13b4e81",
   "metadata": {},
   "outputs": [],
   "source": []
  }
 ],
 "metadata": {
  "kernelspec": {
   "display_name": ".venv",
   "language": "python",
   "name": "python3"
  },
  "language_info": {
   "codemirror_mode": {
    "name": "ipython",
    "version": 3
   },
   "file_extension": ".py",
   "mimetype": "text/x-python",
   "name": "python",
   "nbconvert_exporter": "python",
   "pygments_lexer": "ipython3",
   "version": "3.13.5"
  }
 },
 "nbformat": 4,
 "nbformat_minor": 5
}
