{
 "cells": [
  {
   "cell_type": "markdown",
   "id": "569fe101",
   "metadata": {},
   "source": [
    "# Database With Python"
   ]
  },
  {
   "cell_type": "markdown",
   "id": "b0789a4f",
   "metadata": {},
   "source": [
    "Install connector"
   ]
  },
  {
   "cell_type": "code",
   "execution_count": 9,
   "id": "c7893f62",
   "metadata": {},
   "outputs": [
    {
     "name": "stdout",
     "output_type": "stream",
     "text": [
      "Collecting psycopg2-binary\n",
      "  Using cached psycopg2_binary-2.9.10-cp313-cp313-win_amd64.whl.metadata (4.8 kB)\n",
      "Using cached psycopg2_binary-2.9.10-cp313-cp313-win_amd64.whl (2.6 MB)\n",
      "Installing collected packages: psycopg2-binary\n",
      "Successfully installed psycopg2-binary-2.9.10\n"
     ]
    },
    {
     "name": "stderr",
     "output_type": "stream",
     "text": [
      "\n",
      "[notice] A new release of pip is available: 25.1.1 -> 25.2\n",
      "[notice] To update, run: python.exe -m pip install --upgrade pip\n"
     ]
    }
   ],
   "source": [
    "!pip install psycopg2-binary\n",
    "import psycopg2"
   ]
  },
  {
   "cell_type": "markdown",
   "id": "b036f1f6",
   "metadata": {},
   "source": [
    "reset password \n",
    "\n",
    "###### ALTER USER postgres WITH PASSWORD 'new_password';"
   ]
  },
  {
   "cell_type": "markdown",
   "id": "48773415",
   "metadata": {},
   "source": [
    "Create connectors"
   ]
  },
  {
   "cell_type": "code",
   "execution_count": 20,
   "id": "cf4cdb3c",
   "metadata": {},
   "outputs": [],
   "source": [
    "my_conn = psycopg2.connect(\n",
    "    \n",
    "    host = \"localhost\",\n",
    "    database = 'ds_new',\n",
    "    user = 'postgres',\n",
    "    password = \"1475369\"\n",
    "    \n",
    "    \n",
    "    \n",
    ")"
   ]
  },
  {
   "cell_type": "code",
   "execution_count": 21,
   "id": "0cd03092",
   "metadata": {},
   "outputs": [],
   "source": [
    "my_conn.autocommit = True"
   ]
  },
  {
   "cell_type": "markdown",
   "id": "ead6532b",
   "metadata": {},
   "source": [
    "has a cursor"
   ]
  },
  {
   "cell_type": "code",
   "execution_count": 22,
   "id": "233ad167",
   "metadata": {},
   "outputs": [],
   "source": [
    "cur = my_conn.cursor()"
   ]
  },
  {
   "cell_type": "markdown",
   "id": "70eda931",
   "metadata": {},
   "source": [
    "make simple query"
   ]
  },
  {
   "cell_type": "code",
   "execution_count": 23,
   "id": "7d278100",
   "metadata": {},
   "outputs": [
    {
     "name": "stdout",
     "output_type": "stream",
     "text": [
      "postgres\n"
     ]
    }
   ],
   "source": [
    "cur.execute('SELECT current_user')\n",
    "print(cur.fetchone()[0])\n"
   ]
  },
  {
   "cell_type": "markdown",
   "id": "4e29a374",
   "metadata": {},
   "source": [
    "create new database"
   ]
  },
  {
   "cell_type": "code",
   "execution_count": 25,
   "id": "eca7673a",
   "metadata": {},
   "outputs": [
    {
     "name": "stdout",
     "output_type": "stream",
     "text": [
      "postgres\n"
     ]
    }
   ],
   "source": [
    "cur = my_conn.cursor()\n",
    "cur.execute(\"select current_user\")\n",
    "print(cur.fetchone()[0])"
   ]
  },
  {
   "cell_type": "markdown",
   "id": "87e6aed8",
   "metadata": {},
   "source": [
    "how to get all database name"
   ]
  },
  {
   "cell_type": "code",
   "execution_count": 26,
   "id": "e9d254eb",
   "metadata": {},
   "outputs": [
    {
     "name": "stdout",
     "output_type": "stream",
     "text": [
      "postgres\n",
      "ds_new\n"
     ]
    }
   ],
   "source": [
    "cur.execute(\"SELECT datname from PG_database WHERE datistemplate = false\")\n",
    "for db in cur.fetchall():\n",
    "    print(db[0])"
   ]
  },
  {
   "cell_type": "code",
   "execution_count": 27,
   "id": "4168a1c7",
   "metadata": {},
   "outputs": [
    {
     "name": "stdout",
     "output_type": "stream",
     "text": [
      "table created\n"
     ]
    }
   ],
   "source": [
    "cur.execute(\"CREATE TABLE students_ (name VARCHAR(50), ohone VARCHAR(20))\")\n",
    "print(\"table created\")"
   ]
  },
  {
   "cell_type": "code",
   "execution_count": 29,
   "id": "c39be3db",
   "metadata": {},
   "outputs": [
    {
     "name": "stdout",
     "output_type": "stream",
     "text": [
      "column changed\n"
     ]
    }
   ],
   "source": [
    "cur.execute('ALTER TABLE students_ RENAME COLUMN ohone TO phone')\n",
    "print(\"column changed\")"
   ]
  },
  {
   "cell_type": "code",
   "execution_count": 30,
   "id": "439964c1",
   "metadata": {},
   "outputs": [
    {
     "name": "stdout",
     "output_type": "stream",
     "text": [
      "the new record was inserted\n"
     ]
    }
   ],
   "source": [
    "sql = \"INSERT INTO students_ (name,phone) values (%s, %s)\"\n",
    "data = ('mohamed','01147298055')\n",
    "cur.execute(sql,data)\n",
    "my_conn.commit()\n",
    "print('the new record was inserted')\n"
   ]
  },
  {
   "cell_type": "code",
   "execution_count": null,
   "id": "1c0a1629",
   "metadata": {},
   "outputs": [],
   "source": [
    "ql = \"INSERT INTO students_ (name, phone) values (%s, %s)\"\n",
    "data = [\n",
    "    (\"omer\", '0124354353'),\n",
    "    (\"omer\", '0124354353'),\n",
    "    (\"omer\", '0124354353'),\n",
    "    (\"omer\", '0124354353'),\n",
    "    (\"omer\", '0124354353')\n",
    "]\n"
   ]
  },
  {
   "cell_type": "code",
   "execution_count": 32,
   "id": "cb9d0fa4",
   "metadata": {},
   "outputs": [
    {
     "name": "stdout",
     "output_type": "stream",
     "text": [
      "5\n"
     ]
    }
   ],
   "source": [
    "cur.executemany(ql, data)\n",
    "my_conn.commit()\n",
    "print(cur.rowcount)"
   ]
  },
  {
   "cell_type": "code",
   "execution_count": 33,
   "id": "452a2892",
   "metadata": {},
   "outputs": [
    {
     "name": "stdout",
     "output_type": "stream",
     "text": [
      "('mohamed', '01147298055')\n",
      "('omer', '0124354353')\n",
      "('omer', '0124354353')\n",
      "('omer', '0124354353')\n",
      "('omer', '0124354353')\n",
      "('omer', '0124354353')\n"
     ]
    }
   ],
   "source": [
    "cur.execute(\"select * from students_\")\n",
    "results = cur.fetchall()\n",
    "for i in results:\n",
    "    print(i)"
   ]
  },
  {
   "cell_type": "code",
   "execution_count": null,
   "id": "bb59b303",
   "metadata": {},
   "outputs": [],
   "source": []
  }
 ],
 "metadata": {
  "kernelspec": {
   "display_name": ".venv",
   "language": "python",
   "name": "python3"
  },
  "language_info": {
   "codemirror_mode": {
    "name": "ipython",
    "version": 3
   },
   "file_extension": ".py",
   "mimetype": "text/x-python",
   "name": "python",
   "nbconvert_exporter": "python",
   "pygments_lexer": "ipython3",
   "version": "3.13.5"
  }
 },
 "nbformat": 4,
 "nbformat_minor": 5
}
